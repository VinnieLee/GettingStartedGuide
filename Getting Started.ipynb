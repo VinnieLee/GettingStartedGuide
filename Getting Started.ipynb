{
 "metadata": {
  "name": "",
  "signature": "sha256:9f433c682a3d43091853c379273d298f365bc4222f9c40d5a8f0ec6a53f83d09"
 },
 "nbformat": 3,
 "nbformat_minor": 0,
 "worksheets": [
  {
   "cells": [
    {
     "cell_type": "heading",
     "level": 1,
     "metadata": {},
     "source": [
      "IPython Tutorial"
     ]
    },
    {
     "cell_type": "markdown",
     "metadata": {},
     "source": [
      "mainly for windows.. sorry"
     ]
    },
    {
     "cell_type": "heading",
     "level": 2,
     "metadata": {},
     "source": [
      "Installation"
     ]
    },
    {
     "cell_type": "markdown",
     "metadata": {},
     "source": [
      "**Python v3.4** - https://www.python.org/downloads/\n",
      "\n",
      "**PyVISA** - Instrument Communication - http://pyvisa.readthedocs.org/en/1.6/getting.html <br>\n",
      "Install using pip:\n",
      "  - In command prompt, navigate to C:\\Python34\\Scripts\n",
      "  - run \"pip install pyvisa\"\n",
      "  \n",
      "**PyWin32** - Python extensions for Windows <br>\n",
      "http://sourceforge.net/projects/pywin32/files/pywin32/ <br>\n",
      "Download win32, and the correct version of python\n",
      "\n",
      "**Numpy** - NumPy is the fundamental package for scientific computing with Python <br>\n",
      "http://sourceforge.net/projects/numpy/files/ <br>\n",
      "Download the superpack for win32 and the correct version of Python, v 3.4\n",
      "\n",
      "**Scipy** - Python-based ecosystem of open-source software for mathematics, science, and engineering. <br>\n",
      "http://sourceforge.net/projects/scipy/files/ <br>\n",
      "Similar to NumPy, download for win32, and make sure you get the binary for Python v3.4\n",
      "\n",
      "**Matplotlib** - a python 2D plotting library which produces publication quality figures in a variety of hardcopy formats and interactive environments across platforms. <br>\n",
      "http://matplotlib.org/ <br>\n",
      "run \"pip install matplotlib\"\n",
      "\n",
      "**IPython** - IPython provides a rich architecture for interactive computing <br>\n",
      "http://ipython.org/ <br>\n",
      "run \"pip install ipython[all]\n",
      "\n",
      "after installing IPython, you can navigate a command prompt to C:\\Python34\\Scripts and run \"pip list\" <br>\n",
      "This will tell you what packages are installed.  There should be all the packages installed above plus a few more dependencies.\n",
      "\n",
      "From the scripts folder you can alos run \"iptest\" <br>\n",
      "This can tell you if all items are installed properly. I had two errors one in core and one in lib.  I didnt bother trying to figure out why yet.\n",
      "\n",
      "\n",
      "\n",
      "\n"
     ]
    },
    {
     "cell_type": "heading",
     "level": 2,
     "metadata": {},
     "source": [
      "Enviornment Variables"
     ]
    },
    {
     "cell_type": "markdown",
     "metadata": {},
     "source": [
      "Add C:\\Python34 and C:\\Python34\\Scripts to the windows enviornemnt variables (so you can run Python from anywhere)\n",
      "\n",
      "Control Panel -> System -> Advanced System Settings -> Enviornment Variables\n",
      "\n",
      "Either Edit, or create a new PATH variable\n",
      " - Variable name: PATH\n",
      " - Variable value: C:\\Python34;C:\\Python34\\Scripts"
     ]
    },
    {
     "cell_type": "heading",
     "level": 2,
     "metadata": {},
     "source": [
      "Running IPython"
     ]
    },
    {
     "cell_type": "markdown",
     "metadata": {},
     "source": [
      "In command prompt just run \"ipython notebook\".  This will start an instance of ipython in your present working directory.\n",
      "\n",
      "Or, you can navigate to C:\\Python34\\Scripts, and run \"ipython notebook\".  This will start an instance of ipython notebook in your default directory.\n",
      "\n",
      "Or, you can navigate to a folder that contains some notebook files and run \"ipython notebook\".  This will allow you to see and edit the notebooks that are in that folder.\n",
      "\n"
     ]
    },
    {
     "cell_type": "heading",
     "level": 2,
     "metadata": {},
     "source": [
      "Useful keyboard shortcuts for IPython"
     ]
    },
    {
     "cell_type": "markdown",
     "metadata": {},
     "source": [
      "**Shift-Enter** = Runs code\n",
      "\n",
      "**Grey** box around command window = **command** mode <br>\n",
      "**Green** box around command window = **edit** mode\n",
      "\n",
      "**Esc** - brings you into command mode <br>\n",
      "**Enter** - brings you into edit mode\n",
      "\n",
      "In Command Mode (Esc) <br>\n",
      "**h** - brings up keyboard shortcut page\n",
      "\n",
      "In Edit Mode (Enter) <br>\n",
      "**tab** - suggested code completion or indent <br>\n",
      "**shift-tab** - tooltip"
     ]
    },
    {
     "cell_type": "heading",
     "level": 2,
     "metadata": {},
     "source": [
      "Good Tutorial Resources"
     ]
    },
    {
     "cell_type": "markdown",
     "metadata": {},
     "source": [
      "Must read - http://nbviewer.ipython.org/gist/rpmuller/5920182 <br>\n",
      "\n",
      "http://ipython.org/ipython-doc/stable/notebook/index.html <br>\n"
     ]
    },
    {
     "cell_type": "code",
     "collapsed": false,
     "input": [],
     "language": "python",
     "metadata": {},
     "outputs": []
    }
   ],
   "metadata": {}
  }
 ]
}